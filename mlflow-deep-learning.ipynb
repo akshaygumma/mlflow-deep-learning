{
 "cells": [
  {
   "cell_type": "code",
   "execution_count": 6,
   "id": "bb052633",
   "metadata": {},
   "outputs": [],
   "source": [
    "import keras #DeepLearning Library\n",
    "import numpy as np \n",
    "import pandas as pd\n",
    "\n",
    "from hyperopt import STATUS_OK,tpe,hp,Trials,fmin  ## This library is used mainly in Hyper parameter tuning in Depp Learning projects\n",
    "\n",
    "from sklearn.metrics import mean_squared_error\n",
    "from sklearn.model_selection import train_test_split\n",
    "\n",
    "import mlflow\n",
    "from mlflow.models import infer_signature"
   ]
  },
  {
   "cell_type": "code",
   "execution_count": 7,
   "id": "28cced1a",
   "metadata": {},
   "outputs": [],
   "source": [
    "data = pd.read_csv(\"https://raw.githubusercontent.com/mlflow/mlflow/master/tests/datasets/winequality-white.csv\",sep=\";\")"
   ]
  },
  {
   "cell_type": "code",
   "execution_count": 8,
   "id": "67f177b2",
   "metadata": {},
   "outputs": [],
   "source": [
    "##Creating the ANN (Artificial Neural Network)\n",
    "\n",
    "#Split the data\n",
    "train ,test = train_test_split(data,test_size=0.20)"
   ]
  },
  {
   "cell_type": "code",
   "execution_count": 10,
   "id": "2aa324a1",
   "metadata": {},
   "outputs": [],
   "source": [
    "train_x = train.drop(['quality'],axis=1).values\n",
    "train_y = train[['quality']].values.ravel()\n",
    "test_x = test.drop(['quality'],axis=1).values\n",
    "test_y = test['quality'].values.ravel()"
   ]
  },
  {
   "cell_type": "code",
   "execution_count": null,
   "id": "050fa701",
   "metadata": {},
   "outputs": [],
   "source": []
  }
 ],
 "metadata": {
  "kernelspec": {
   "display_name": "base",
   "language": "python",
   "name": "python3"
  },
  "language_info": {
   "codemirror_mode": {
    "name": "ipython",
    "version": 3
   },
   "file_extension": ".py",
   "mimetype": "text/x-python",
   "name": "python",
   "nbconvert_exporter": "python",
   "pygments_lexer": "ipython3",
   "version": "3.12.7"
  }
 },
 "nbformat": 4,
 "nbformat_minor": 5
}
